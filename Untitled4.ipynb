{
 "cells": [
  {
   "cell_type": "code",
   "execution_count": null,
   "metadata": {},
   "outputs": [],
   "source": [
    "Inicio\n",
    "\n",
    "|---> Definir carpetas y nombres de personas\n",
    "|       |\n",
    "|       |---> Iterar sobre cada persona\n",
    "|               |\n",
    "|               |---> Cargar imágenes de la carpeta de la persona\n",
    "|               |       |\n",
    "|               |       |---> Iterar sobre cada imagen\n",
    "|               |               |\n",
    "|               |               |---> Leer la imagen en escala de grises\n",
    "|               |               |---> Calcular la nitidez de la imagen\n",
    "|               |               |---> Comparar con la imagen más nítida previamente encontrada\n",
    "|               |                       |\n",
    "|               |                       |---> Si es más nítida, reemplazar la imagen más nítida\n",
    "|               |\n",
    "|               |---> Mostrar la imagen más nítida de la persona actual (si hay alguna)\n",
    "|\n",
    "|---> Mostrar todas las imágenes más nítidas\n",
    "\n",
    "Fin\n"
   ]
  }
 ],
 "metadata": {
  "kernelspec": {
   "display_name": "Python 3",
   "language": "python",
   "name": "python3"
  },
  "language_info": {
   "codemirror_mode": {
    "name": "ipython",
    "version": 3
   },
   "file_extension": ".py",
   "mimetype": "text/x-python",
   "name": "python",
   "nbconvert_exporter": "python",
   "pygments_lexer": "ipython3",
   "version": "3.6.6"
  }
 },
 "nbformat": 4,
 "nbformat_minor": 2
}
