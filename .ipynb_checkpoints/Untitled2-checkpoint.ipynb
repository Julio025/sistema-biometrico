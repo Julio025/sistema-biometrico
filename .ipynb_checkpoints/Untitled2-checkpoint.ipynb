{
 "cells": [
  {
   "cell_type": "code",
   "execution_count": null,
   "metadata": {},
   "outputs": [
    {
     "name": "stdout",
     "output_type": "stream",
     "text": [
      "Procesando imágenes de Persona1:\n",
      "La imagen más nítida de Persona1 es: 4.jpg\n",
      "Procesando imágenes de Persona2:\n",
      "La imagen más nítida de Persona2 es: 3.jpg\n",
      "Procesando imágenes de Persona3:\n",
      "La imagen más nítida de Persona3 es: 1.jpg\n",
      "Procesando imágenes de Persona4:\n",
      "La imagen más nítida de Persona4 es: 3.jpg\n",
      "Procesando imágenes de Persona5:\n",
      "La imagen más nítida de Persona5 es: 1.jpg\n"
     ]
    }
   ],
   "source": [
    "import numpy as np\n",
    "import cv2\n",
    "import os\n",
    "\n",
    "def load_images(folder):\n",
    "    images = []\n",
    "    for filename in os.listdir(folder):\n",
    "        img_path = os.path.join(folder, filename)\n",
    "        if os.path.isfile(img_path):  \n",
    "            img = cv2.imread(img_path, cv2.IMREAD_GRAYSCALE)\n",
    "            if img is not None:\n",
    "                images.append((filename, img))  # Se guarda el nombre del archivo junto con la imagen\n",
    "    return images\n",
    "\n",
    "def calculate_sharpness(img):\n",
    "    # Calcular la variante de Laplace como medida de nitidez\n",
    "    return cv2.Laplacian(img, cv2.CV_64F).var()\n",
    "\n",
    "def find_sharpest_image(images):\n",
    "    sharpest_img = None\n",
    "    max_sharpness = -1\n",
    "    \n",
    "    for filename, img in images:\n",
    "        sharpness = calculate_sharpness(img)\n",
    "        if sharpness > max_sharpness:\n",
    "            max_sharpness = sharpness\n",
    "            sharpest_img = (filename, img)\n",
    "    \n",
    "    return sharpest_img\n",
    "\n",
    "# Definir las carpetas y nombres de las personas\n",
    "personas = {\n",
    "    \"Persona1\": \"Persona/Persona-1\",\n",
    "    \"Persona2\": \"Persona/Persona-2\",\n",
    "    \"Persona3\": \"Persona/Persona-3\",\n",
    "    \"Persona4\": \"Persona/Persona-4\",\n",
    "    \"Persona5\": \"Persona/Persona-5\"\n",
    "}\n",
    "\n",
    "# Lista para almacenar las imágenes aplicando el filtro de cada carpeta\n",
    "imagenes_nitidas = []\n",
    "\n",
    "for nombre_persona, carpeta_persona in personas.items():\n",
    "    print(f\"Procesando imágenes de {nombre_persona}:\")\n",
    "    folder_path = carpeta_persona\n",
    "\n",
    "    # Cargar imágenes de huellas dactilares\n",
    "    images = load_images(folder_path)\n",
    "\n",
    "    # Encontrar la huella más nítida\n",
    "    sharpest_image = find_sharpest_image(images)\n",
    "\n",
    "    # Mostrar la imagen más nítida (puedes modificar esto según tus necesidades)\n",
    "    if sharpest_image is not None:\n",
    "        filename, img = sharpest_image\n",
    "        print(f\"La imagen más nítida de {nombre_persona} es: {filename}\")\n",
    "        imagenes_nitidas.append((nombre_persona, img))  # Agregar la imagen más nítida a la lista\n",
    "    else:\n",
    "        print(f\"No se encontraron imágenes para procesar en la carpeta {carpeta_persona}.\")\n",
    "\n",
    "# Mostrar todas las imágenes más nítidas\n",
    "for nombre_persona, img in imagenes_nitidas:\n",
    "    cv2.imshow(f\"Imagen más nítida de {nombre_persona}\", img)\n",
    "\n",
    "cv2.waitKey(0)\n",
    "cv2.destroyAllWindows()\n"
   ]
  }
 ],
 "metadata": {
  "kernelspec": {
   "display_name": "Python 3",
   "language": "python",
   "name": "python3"
  },
  "language_info": {
   "codemirror_mode": {
    "name": "ipython",
    "version": 3
   },
   "file_extension": ".py",
   "mimetype": "text/x-python",
   "name": "python",
   "nbconvert_exporter": "python",
   "pygments_lexer": "ipython3",
   "version": "3.6.6"
  }
 },
 "nbformat": 4,
 "nbformat_minor": 2
}
