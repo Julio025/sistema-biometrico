{
 "cells": [
  {
   "cell_type": "code",
   "execution_count": null,
   "metadata": {},
   "outputs": [],
   "source": [
    "import numpy as np\n",
    "import cv2\n",
    "import os\n",
    "\n",
    "def load_images(folder):\n",
    "    images = []\n",
    "    for filename in os.listdir(folder):\n",
    "        img_path = os.path.join(folder, filename)\n",
    "        if os.path.isfile(img_path):  \n",
    "            img = cv2.imread(img_path, cv2.IMREAD_GRAYSCALE)\n",
    "            if img is not None:\n",
    "                images.append(img)\n",
    "    return images\n",
    "\n",
    "def calculate_sharpness(img):\n",
    "    # Calculate Laplacian variance as a measure of sharpness\n",
    "    return cv2.Laplacian(img, cv2.CV_64F).var()\n",
    "\n",
    "def find_sharpest_image(images):\n",
    "    sharpest_img = None\n",
    "    max_sharpness = -1\n",
    "    \n",
    "    for img in images:\n",
    "        sharpness = calculate_sharpness(img)\n",
    "        if sharpness > max_sharpness:\n",
    "            max_sharpness = sharpness\n",
    "            sharpest_img = img\n",
    "    \n",
    "    return sharpest_img\n",
    "\n",
    "# Ruta de la carpeta que contiene las imágenes de las huellas dactilares\n",
    "folder_path = r\"Persona-1\"\n",
    "\n",
    "# Cargar imágenes de huellas dactilares\n",
    "images = load_images(folder_path)\n",
    "\n",
    "# Encontrar la huella más nítida\n",
    "sharpest_image = find_sharpest_image(images)\n",
    "\n",
    "# Mostrar la imagen más nítida (puedes modificar esto según tus necesidades)\n",
    "if sharpest_image is not None:\n",
    "    cv2.imshow(\"Imagen más nítida\", sharpest_image)\n",
    "    cv2.waitKey(0)\n",
    "    cv2.destroyAllWindows()\n",
    "else:\n",
    "    print(\"No se encontraron imágenes para procesar.\")\n"
   ]
  }
 ],
 "metadata": {
  "kernelspec": {
   "display_name": "Python 3",
   "language": "python",
   "name": "python3"
  },
  "language_info": {
   "codemirror_mode": {
    "name": "ipython",
    "version": 3
   },
   "file_extension": ".py",
   "mimetype": "text/x-python",
   "name": "python",
   "nbconvert_exporter": "python",
   "pygments_lexer": "ipython3",
   "version": "3.6.6"
  }
 },
 "nbformat": 4,
 "nbformat_minor": 2
}
