{
 "cells": [
  {
   "cell_type": "code",
   "execution_count": 2,
   "metadata": {},
   "outputs": [
    {
     "name": "stdout",
     "output_type": "stream",
     "text": [
      "Cantidad de imágenes preprocesadas: 4\n"
     ]
    }
   ],
   "source": [
    "import numpy as np\n",
    "import cv2\n",
    "import os\n",
    "\n",
    "def load_images(folder):\n",
    "    images = []\n",
    "    for filename in os.listdir(folder):\n",
    "        img_path = os.path.join(folder, filename)\n",
    "        if os.path.isfile(img_path):  \n",
    "            img = cv2.imread(img_path, cv2.IMREAD_GRAYSCALE)\n",
    "            if img is not None:\n",
    "                images.append(img)\n",
    "    return images\n",
    "\n",
    "def gaussian_filter(img):\n",
    "    return cv2.GaussianBlur(img, (5, 5), 0)\n",
    "\n",
    "def preprocess_images(images):\n",
    "    preprocessed_images = []\n",
    "    for img in images:\n",
    "        blurred_img = gaussian_filter(img)\n",
    "        preprocessed_images.append(blurred_img)\n",
    "    return preprocessed_images\n",
    "\n",
    "def match_images(query_img, reference_images):\n",
    "    best_match = None\n",
    "    best_match_score = 0  \n",
    "    \n",
    "    surf = cv2.xfeatures2d.SURF_create()\n",
    "    \n",
    "    kp_query, des_query = surf.detectAndCompute(query_img, None)\n",
    "    \n",
    "    for ref_img in reference_images:\n",
    "        if len(ref_img.shape) == 3:\n",
    "            ref_img_gray = cv2.cvtColor(ref_img, cv2.COLOR_BGR2GRAY)\n",
    "        else:\n",
    "            ref_img_gray = ref_img\n",
    "        \n",
    "        kp_ref, des_ref = surf.detectAndCompute(ref_img_gray, None)\n",
    "        \n",
    "        bf = cv2.BFMatcher()\n",
    "        matches = bf.knnMatch(des_query, des_ref, k=2)\n",
    "        \n",
    "        good_matches = []\n",
    "        for m, n in matches:\n",
    "            if m.distance < 0.75 * n.distance:\n",
    "                good_matches.append(m)\n",
    "        \n",
    "        match_score = len(good_matches)\n",
    "        \n",
    "        if match_score > best_match_score:\n",
    "            best_match_score = match_score\n",
    "            best_match = ref_img\n",
    "    \n",
    "    return best_match\n",
    "\n",
    "# Ruta de la carpeta que contiene las imágenes de las huellas dactilares\n",
    "folder_path = r\"Persona-1\\Dedo-1\"\n",
    "\n",
    "# Cargar imágenes de huellas dactilares\n",
    "images = load_images(folder_path)\n",
    "\n",
    "# Preprocesar imágenes (aplicar filtro gaussiano)\n",
    "preprocessed_images = preprocess_images(images)\n",
    "\n",
    "# Comparar huellas dactilares\n",
    "print(\"Cantidad de imágenes preprocesadas:\", len(preprocessed_images))\n"
   ]
  }
 ],
 "metadata": {
  "kernelspec": {
   "display_name": "Python 3",
   "language": "python",
   "name": "python3"
  },
  "language_info": {
   "codemirror_mode": {
    "name": "ipython",
    "version": 3
   },
   "file_extension": ".py",
   "mimetype": "text/x-python",
   "name": "python",
   "nbconvert_exporter": "python",
   "pygments_lexer": "ipython3",
   "version": "3.6.6"
  }
 },
 "nbformat": 4,
 "nbformat_minor": 2
}
